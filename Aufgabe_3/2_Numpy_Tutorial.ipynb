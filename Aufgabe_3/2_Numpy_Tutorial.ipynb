{
 "cells": [
  {
   "cell_type": "markdown",
   "metadata": {},
   "source": [
    "## Numpy-Tutorial 2\n",
    "\n",
    "In diesem Tutorial werden diejenigen Python-Befehle vorgestellt, \n",
    "die für die zweite Teilaufgabe (Gradientenabstieg) nützlich sind.\n",
    "\n",
    "Dies sind\n",
    "- Definition und Aufruf einer Funktion mit mehreren Rückgabewerten \n",
    "- Erzeugen von Gitterpunkten (XGrid, YGrid) eines 2D-Gitters\n",
    "- Plotten von Funktionen mit zwei Variablen Z(x,y) mit \"imshow\"\n",
    "- Einzeichnen von Pfaden in ein imshow-Bild\n",
    "- 3D-Plot von Funktionen mit zwei Variablen Z(x,y)"
   ]
  },
  {
   "cell_type": "code",
   "execution_count": null,
   "metadata": {},
   "outputs": [],
   "source": []
  },
  {
   "cell_type": "code",
   "execution_count": 1,
   "metadata": {},
   "outputs": [],
   "source": [
    "# Alle Variablen löschen ohne zu fragen.\n",
    "# Hierdurch werden Seiteneffekte vermieden.\n",
    "%reset -f"
   ]
  },
  {
   "cell_type": "code",
   "execution_count": 2,
   "metadata": {},
   "outputs": [],
   "source": [
    "import numpy as np\n",
    "import matplotlib as mpl\n",
    "import matplotlib.pyplot as plt\n",
    "from   mpl_toolkits import mplot3d\n",
    "\n",
    "#%matplotlib notebook"
   ]
  },
  {
   "cell_type": "code",
   "execution_count": null,
   "metadata": {},
   "outputs": [],
   "source": []
  },
  {
   "cell_type": "code",
   "execution_count": 3,
   "metadata": {},
   "outputs": [],
   "source": [
    "# Definition einer Funktion z(x,y) \n",
    "# = Funktionsgebirge über x-y-Ebene\n",
    "def MyFunction(x, y):\n",
    "    z = (x-0.5)**2+(y-0.5)**2\n",
    "    return z"
   ]
  },
  {
   "cell_type": "code",
   "execution_count": null,
   "metadata": {},
   "outputs": [],
   "source": []
  },
  {
   "cell_type": "code",
   "execution_count": 12,
   "metadata": {},
   "outputs": [
    {
     "name": "stdout",
     "output_type": "stream",
     "text": [
      "(a,  b ) = [0.  0.1 0.2 0.3 0.4 0.5 0.6 0.7 0.8 0.9] [1.  0.9 0.8 0.7 0.6 0.5 0.4 0.3 0.2 0.1]\n",
      "(e1, e2) = [1. 1. 1. 1. 1. 1. 1. 1. 1. 1.] [0.   0.09 0.16 0.21 0.24 0.25 0.24 0.21 0.16 0.09]\n"
     ]
    }
   ],
   "source": [
    "# Definition einer Funktion mit mehreren \n",
    "# Rückgabewerten\n",
    "def MyFunc2(x1, x2):\n",
    "    z1 = x1+x2\n",
    "    z2 = x1*x2\n",
    "    return z1, z2\n",
    "\n",
    "a = np.arange(0,1, 0.1)\n",
    "b = np.arange(1,0,-0.1)\n",
    "print('(a,  b ) =', a, b)\n",
    "\n",
    "# Aufruf einer Funktion mit mehreren \n",
    "# Rückgabewerten\n",
    "e1, e2 = MyFunc2(a,b)\n",
    "\n",
    "print('(e1, e2) =', e1, e2)"
   ]
  },
  {
   "cell_type": "code",
   "execution_count": null,
   "metadata": {},
   "outputs": [],
   "source": []
  },
  {
   "cell_type": "code",
   "execution_count": 4,
   "metadata": {},
   "outputs": [
    {
     "name": "stdout",
     "output_type": "stream",
     "text": [
      "xgrid.shape = (11,)\n",
      "XGrid.shape = (11, 11)\n",
      "\n",
      "XGrid = [[0.  0.1 0.2 0.3 0.4 0.5 0.6 0.7 0.8 0.9 1. ]\n",
      " [0.  0.1 0.2 0.3 0.4 0.5 0.6 0.7 0.8 0.9 1. ]\n",
      " [0.  0.1 0.2 0.3 0.4 0.5 0.6 0.7 0.8 0.9 1. ]\n",
      " [0.  0.1 0.2 0.3 0.4 0.5 0.6 0.7 0.8 0.9 1. ]\n",
      " [0.  0.1 0.2 0.3 0.4 0.5 0.6 0.7 0.8 0.9 1. ]\n",
      " [0.  0.1 0.2 0.3 0.4 0.5 0.6 0.7 0.8 0.9 1. ]\n",
      " [0.  0.1 0.2 0.3 0.4 0.5 0.6 0.7 0.8 0.9 1. ]\n",
      " [0.  0.1 0.2 0.3 0.4 0.5 0.6 0.7 0.8 0.9 1. ]\n",
      " [0.  0.1 0.2 0.3 0.4 0.5 0.6 0.7 0.8 0.9 1. ]\n",
      " [0.  0.1 0.2 0.3 0.4 0.5 0.6 0.7 0.8 0.9 1. ]\n",
      " [0.  0.1 0.2 0.3 0.4 0.5 0.6 0.7 0.8 0.9 1. ]]\n",
      "\n",
      "YGrid = [[0.  0.  0.  0.  0.  0.  0.  0.  0.  0.  0. ]\n",
      " [0.1 0.1 0.1 0.1 0.1 0.1 0.1 0.1 0.1 0.1 0.1]\n",
      " [0.2 0.2 0.2 0.2 0.2 0.2 0.2 0.2 0.2 0.2 0.2]\n",
      " [0.3 0.3 0.3 0.3 0.3 0.3 0.3 0.3 0.3 0.3 0.3]\n",
      " [0.4 0.4 0.4 0.4 0.4 0.4 0.4 0.4 0.4 0.4 0.4]\n",
      " [0.5 0.5 0.5 0.5 0.5 0.5 0.5 0.5 0.5 0.5 0.5]\n",
      " [0.6 0.6 0.6 0.6 0.6 0.6 0.6 0.6 0.6 0.6 0.6]\n",
      " [0.7 0.7 0.7 0.7 0.7 0.7 0.7 0.7 0.7 0.7 0.7]\n",
      " [0.8 0.8 0.8 0.8 0.8 0.8 0.8 0.8 0.8 0.8 0.8]\n",
      " [0.9 0.9 0.9 0.9 0.9 0.9 0.9 0.9 0.9 0.9 0.9]\n",
      " [1.  1.  1.  1.  1.  1.  1.  1.  1.  1.  1. ]]\n"
     ]
    }
   ],
   "source": [
    "# Erzeugen der x- und y-Werte eines \n",
    "# zweidimensionalen Gitters mit \"linspace\"\n",
    "# linspace(Start, End, Anzahl der Zwischenwerte)\n",
    "xgrid = np.linspace(0, 1, 11)\n",
    "ygrid = np.linspace(0, 1, 11)\n",
    "XGrid, YGrid = np.meshgrid(xgrid, ygrid)\n",
    "\n",
    "print('xgrid.shape =', xgrid.shape)\n",
    "print('XGrid.shape =', XGrid.shape)\n",
    "\n",
    "print()\n",
    "print('XGrid =',XGrid)\n",
    "print()\n",
    "print('YGrid =',YGrid)"
   ]
  },
  {
   "cell_type": "code",
   "execution_count": 5,
   "metadata": {},
   "outputs": [
    {
     "name": "stdout",
     "output_type": "stream",
     "text": [
      "Z= [[0.5  0.41 0.34 0.29 0.26 0.25 0.26 0.29 0.34 0.41 0.5 ]\n",
      " [0.41 0.32 0.25 0.2  0.17 0.16 0.17 0.2  0.25 0.32 0.41]\n",
      " [0.34 0.25 0.18 0.13 0.1  0.09 0.1  0.13 0.18 0.25 0.34]\n",
      " [0.29 0.2  0.13 0.08 0.05 0.04 0.05 0.08 0.13 0.2  0.29]\n",
      " [0.26 0.17 0.1  0.05 0.02 0.01 0.02 0.05 0.1  0.17 0.26]\n",
      " [0.25 0.16 0.09 0.04 0.01 0.   0.01 0.04 0.09 0.16 0.25]\n",
      " [0.26 0.17 0.1  0.05 0.02 0.01 0.02 0.05 0.1  0.17 0.26]\n",
      " [0.29 0.2  0.13 0.08 0.05 0.04 0.05 0.08 0.13 0.2  0.29]\n",
      " [0.34 0.25 0.18 0.13 0.1  0.09 0.1  0.13 0.18 0.25 0.34]\n",
      " [0.41 0.32 0.25 0.2  0.17 0.16 0.17 0.2  0.25 0.32 0.41]\n",
      " [0.5  0.41 0.34 0.29 0.26 0.25 0.26 0.29 0.34 0.41 0.5 ]]\n"
     ]
    }
   ],
   "source": [
    "# Berechnung der Funktionswerte z für alle \n",
    "# Werte an den Gitterpunkten (XGrid,YGrid)\n",
    "Z = MyFunction(XGrid, YGrid)\n",
    "print('Z=', Z)"
   ]
  },
  {
   "cell_type": "code",
   "execution_count": 6,
   "metadata": {},
   "outputs": [
    {
     "data": {
      "image/png": "[encoded data removed]",
      "text/plain": [
       "<Figure size 360x288 with 2 Axes>"
      ]
     },
     "metadata": {
      "needs_background": "light"
     },
     "output_type": "display_data"
    }
   ],
   "source": [
    "# Anzeige der Funktion (je höher der Funktionswert, desto roter ....)\n",
    "fig = plt.figure(1, figsize=(5, 4))\n",
    "#fig = plt.figure(1)\n",
    "plt.imshow(Z, origin='lower', extent=[0,1,0,1 ], cmap='coolwarm')\n",
    "cb = plt.colorbar()"
   ]
  },
  {
   "cell_type": "code",
   "execution_count": null,
   "metadata": {},
   "outputs": [],
   "source": []
  },
  {
   "cell_type": "code",
   "execution_count": 14,
   "metadata": {},
   "outputs": [
    {
     "name": "stdout",
     "output_type": "stream",
     "text": [
      "[[0.   0.  ]\n",
      " [0.1  0.01]\n",
      " [0.2  0.04]\n",
      " [0.3  0.09]\n",
      " [0.4  0.16]\n",
      " [0.5  0.25]\n",
      " [0.6  0.36]\n",
      " [0.7  0.49]\n",
      " [0.8  0.64]\n",
      " [0.9  0.81]]\n"
     ]
    },
    {
     "data": {
      "text/plain": [
       "[<matplotlib.lines.Line2D at 0x24470a10408>]"
      ]
     },
     "execution_count": 14,
     "metadata": {},
     "output_type": "execute_result"
    },
    {
     "data": {
      "image/png": "[encoded data removed]",
      "text/plain": [
       "<Figure size 360x288 with 2 Axes>"
      ]
     },
     "metadata": {
      "needs_background": "light"
     },
     "output_type": "display_data"
    }
   ],
   "source": [
    "# Überlagerung eines Bildes (imshow) und\n",
    "# eines Pfades\n",
    "\n",
    "# Pfad (xVek) erzeugen\n",
    "n=10\n",
    "# Array mit n Zeilen und 2 Spalten anlegen\n",
    "xVek = np.zeros((n,2))\n",
    "# In der ersten Spalte eine Zahlenfolge\n",
    "# von 0 bis 1 in Schritten von 0.1 anlegen\n",
    "xVek[:,0] = np.arange(0, 1, 0.1)\n",
    "# In der zweiten Spalte die Quadrate der\n",
    "# Zahlenwerte aus der ersten Spalte anlegen\n",
    "xVek[:,1] = xVek[:,0]**2\n",
    "\n",
    "\n",
    "print(xVek)\n",
    "\n",
    "\n",
    "# Anzeige der Funktion (je höher der Funktionswert, desto roter ....)\n",
    "fig = plt.figure(2, figsize=(5, 4))\n",
    "#fig = plt.figure(1)\n",
    "plt.imshow(Z, origin='lower', extent=[0,1,0,1 ], cmap='coolwarm')\n",
    "cb = plt.colorbar()\n",
    "\n",
    "# Anzeigen des Pfades\n",
    "plt.plot(xVek[:,0], xVek[:,1], lw=0.7, c='black')"
   ]
  },
  {
   "cell_type": "code",
   "execution_count": null,
   "metadata": {},
   "outputs": [],
   "source": []
  },
  {
   "cell_type": "code",
   "execution_count": 15,
   "metadata": {},
   "outputs": [
    {
     "data": {
      "text/plain": [
       "<mpl_toolkits.mplot3d.art3d.Poly3DCollection at 0x24470a6dec8>"
      ]
     },
     "execution_count": 15,
     "metadata": {},
     "output_type": "execute_result"
    },
    {
     "data": {
      "image/png": "[encoded data removed]",
      "text/plain": [
       "<Figure size 360x288 with 1 Axes>"
      ]
     },
     "metadata": {
      "needs_background": "light"
     },
     "output_type": "display_data"
    }
   ],
   "source": [
    "# Anzeige der Funktion z(x,y) als Surfaceplot\n",
    "fig = plt.figure(3, figsize=(5, 4))\n",
    "ax  = plt.axes(projection='3d')\n",
    "ax.plot_surface(XGrid, YGrid, Z, cmap='coolwarm')"
   ]
  },
  {
   "cell_type": "code",
   "execution_count": null,
   "metadata": {},
   "outputs": [],
   "source": []
  },
  {
   "cell_type": "code",
   "execution_count": null,
   "metadata": {},
   "outputs": [],
   "source": []
  }
 ],
 "metadata": {
  "kernelspec": {
   "display_name": "Python 3",
   "language": "python",
   "name": "python3"
  },
  "language_info": {
   "codemirror_mode": {
    "name": "ipython",
    "version": 3
   },
   "file_extension": ".py",
   "mimetype": "text/x-python",
   "name": "python",
   "nbconvert_exporter": "python",
   "pygments_lexer": "ipython3",
   "version": "3.7.7"
  }
 },
 "nbformat": 4,
 "nbformat_minor": 4
}
